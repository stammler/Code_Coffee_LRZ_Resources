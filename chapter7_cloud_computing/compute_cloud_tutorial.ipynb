{
 "cells": [
  {
   "cell_type": "markdown",
   "metadata": {
    "slideshow": {
     "slide_type": "slide"
    }
   },
   "source": [
    "# LRZ Compute Cloud"
   ]
  },
  {
   "cell_type": "markdown",
   "metadata": {
    "slideshow": {
     "slide_type": "-"
    }
   },
   "source": [
    "Need to get login: check out the [documentation](https://doku.lrz.de/display/PUBLIC/FAQ#FAQ-HowtogetaccesstotheComputeCloud?) and ask Master User"
   ]
  },
  {
   "cell_type": "markdown",
   "metadata": {
    "slideshow": {
     "slide_type": "-"
    }
   },
   "source": [
    "see also tutorial by the LRZ [here](https://doku.lrz.de/display/PUBLIC/Create+a+VM), where most of this is coming from."
   ]
  },
  {
   "cell_type": "markdown",
   "metadata": {
    "slideshow": {
     "slide_type": "slide"
    }
   },
   "source": [
    "## Login\n",
    "\n",
    "login to [cc.lrz.de](http://cc.lrz.de)"
   ]
  },
  {
   "cell_type": "markdown",
   "metadata": {
    "slideshow": {
     "slide_type": "fragment"
    }
   },
   "source": [
    "<img src=\"01_login_screen.png\" style=\"width:50%\" />"
   ]
  },
  {
   "cell_type": "markdown",
   "metadata": {
    "slideshow": {
     "slide_type": "subslide"
    }
   },
   "source": [
    "This takes you here:\n",
    "<img src=\"02_project_screen.png\" style=\"width:50%\" />"
   ]
  },
  {
   "cell_type": "markdown",
   "metadata": {
    "slideshow": {
     "slide_type": "subslide"
    }
   },
   "source": [
    "## First time: create a *Security Group*\n",
    "\n",
    "You need to do this only once before you create your first instance:\n",
    "\n",
    "Go to:\n",
    "\n",
    "\t-> Network\n",
    "    -> Security Groups\n",
    "    -> Manage Groups\n",
    "    -> Add Rule\n",
    "    -> select SSH from dropdown & press \"Add\"\n",
    "    \n",
    "For access from the internet, also add HTTTP and HTTPS rules in the same way if you want to access your machine (e.g. jupyter) via a browser.\n",
    "\n",
    "<img src=\"03_security_group.png\" />"
   ]
  },
  {
   "cell_type": "markdown",
   "metadata": {
    "slideshow": {
     "slide_type": "subslide"
    }
   },
   "source": [
    "<img src=\"04_add_rule.png\" />"
   ]
  },
  {
   "cell_type": "markdown",
   "metadata": {
    "slideshow": {
     "slide_type": "slide"
    }
   },
   "source": [
    "## Create & Launch Instance\n",
    "- Go to `-> Compute -> Instances -> Launch Instance`,\n",
    "\n",
    "<img src=\"05_instances.png\" style=\"width:70%\" />"
   ]
  },
  {
   "cell_type": "markdown",
   "metadata": {
    "slideshow": {
     "slide_type": "subslide"
    }
   },
   "source": [
    "then give name (count 1 is one instance)\n",
    "\n",
    "<img src=\"06_launch_instance.png\" style=\"width:50%\" />"
   ]
  },
  {
   "cell_type": "markdown",
   "metadata": {
    "slideshow": {
     "slide_type": "subslide"
    }
   },
   "source": [
    "- Source: select from list, e.g. Ubuntu, press up arrow\n",
    "- Volume Size: increase disk size if needed\n",
    "\n",
    "<img src=\"07_select_source.png\" style=\"width:60%\" />"
   ]
  },
  {
   "cell_type": "markdown",
   "metadata": {
    "slideshow": {
     "slide_type": "subslide"
    }
   },
   "source": [
    "- In *Flavor*: select the machine you want, for example `lrz.medium`\n",
    "\n",
    "<img src=\"08_flavor.png\" style=\"width:50%\" />"
   ]
  },
  {
   "cell_type": "markdown",
   "metadata": {
    "slideshow": {
     "slide_type": "subslide"
    }
   },
   "source": [
    "- In *Network*: add network interfaces:\n",
    "\t\n",
    "\t- MWN (only via MWN or VPN)\n",
    "\t- internet: open and dangerous!\n",
    "    \n",
    "<img src=\"09_networks.png\" style=\"width:70%\" />\n",
    "\t"
   ]
  },
  {
   "cell_type": "markdown",
   "metadata": {
    "slideshow": {
     "slide_type": "subslide"
    }
   },
   "source": [
    "- In **Security Groups**, add the default group that we **edited earlier**\n",
    "\n",
    "- In **Key Pair**: import & add your SSH public key to login to the machine\n",
    "\n",
    "- Then **LAUNCH INSTANCE**\n",
    "\n",
    "<img src=\"10_keys.png\" style=\"width:50%\" />"
   ]
  },
  {
   "cell_type": "markdown",
   "metadata": {
    "slideshow": {
     "slide_type": "slide"
    }
   },
   "source": [
    "## Login\n",
    "\n",
    "The instance is now running, but to log in, we need to **add a *floating IP***:\n",
    "\n",
    "- click on *Associate Floating IP*\n",
    "\n",
    "- create one, either from MWN pool (10...) or from internet pool (138...), depending on what interface you chose above.\n",
    "\n",
    "<img src=\"11_floatingip.png\" style=\"width:60%\" />"
   ]
  },
  {
   "cell_type": "markdown",
   "metadata": {
    "slideshow": {
     "slide_type": "subslide"
    }
   },
   "source": [
    "<img src=\"12_allocate_ip.png\" style=\"width:50%\" />\n",
    "<img src=\"13_allocate_ip.png\" style=\"width:50%\" />"
   ]
  },
  {
   "cell_type": "markdown",
   "metadata": {
    "slideshow": {
     "slide_type": "subslide"
    }
   },
   "source": [
    "To login, there is no password, but instead the key added above is used, but you need a username. This one should be given in the image description, for example for our image it is just `ubuntu` and you need the IP that you just assigned, which is `138...` for internet access and `10....` for MWN access, so\n",
    "\n",
    "\t\tssh ubuntu@138...."
   ]
  },
  {
   "cell_type": "markdown",
   "metadata": {
    "slideshow": {
     "slide_type": "slide"
    }
   },
   "source": [
    "## Next\n",
    "\n",
    "e.g. install jupyter hub:\n",
    "\n",
    "http://tljh.jupyter.org/en/latest/install/custom-server.html"
   ]
  },
  {
   "cell_type": "code",
   "execution_count": null,
   "metadata": {
    "scrolled": false,
    "slideshow": {
     "slide_type": "skip"
    }
   },
   "outputs": [],
   "source": [
    "!jupyter nbconvert *.ipynb --to slides --SlidesExporter.reveal_scroll=True --post serve"
   ]
  }
 ],
 "metadata": {
  "celltoolbar": "Slideshow",
  "kernelspec": {
   "display_name": "Python 3",
   "language": "python",
   "name": "python3"
  },
  "language_info": {
   "codemirror_mode": {
    "name": "ipython",
    "version": 3
   },
   "file_extension": ".py",
   "mimetype": "text/x-python",
   "name": "python",
   "nbconvert_exporter": "python",
   "pygments_lexer": "ipython3",
   "version": "3.7.4"
  }
 },
 "nbformat": 4,
 "nbformat_minor": 4
}
